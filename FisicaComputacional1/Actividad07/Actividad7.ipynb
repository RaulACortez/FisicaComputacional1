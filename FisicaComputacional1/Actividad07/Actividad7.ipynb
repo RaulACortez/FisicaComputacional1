{
  "nbformat": 4,
  "nbformat_minor": 0,
  "metadata": {
    "colab": {
      "name": "Actividad7.ipynb",
      "provenance": []
    },
    "kernelspec": {
      "name": "python3",
      "display_name": "Python 3"
    },
    "language_info": {
      "name": "python"
    }
  },
  "cells": [
    {
      "cell_type": "code",
      "metadata": {
        "id": "eVZJ_v8aZX9c"
      },
      "source": [
        "#Importamos las bibliotecas a utilizar\n",
        "import numpy as np \n",
        "import scipy.linalg as la\n",
        "from numpy.linalg import matrix_power as mpow\n",
        "import matplotlib.pyplot as plt\n",
        "\n",
        "%matplotlib inline"
      ],
      "execution_count": 5,
      "outputs": []
    },
    {
      "cell_type": "markdown",
      "metadata": {
        "id": "lKH70-bBZu9t"
      },
      "source": [
        "**Ejercicio 1**. Defina las siguientes matrices. \n",
        "\n",
        "\\\n",
        "\n",
        "$$\\begin{equation}\n",
        " A\n",
        " =\n",
        "  \\begin{bmatrix}\n",
        "   1 & 3 \\\\\n",
        "   -1 & 7\n",
        "   \\end{bmatrix}\n",
        "\\end{equation}$$\n",
        "\n",
        "\\\n",
        "\n",
        "$$\\begin{equation}\n",
        " B =\n",
        "  \\begin{bmatrix}\n",
        "   5 & 2 \\\\\n",
        "   1 & 2\n",
        "   \\end{bmatrix}\n",
        "\\end{equation}$$\n",
        "\n",
        "\\\n",
        "\n",
        "y la matrix identidad\n",
        "\n",
        "\\\n",
        "\n",
        "$$\\begin{equation}\n",
        " I = \n",
        "   \\begin{bmatrix}\n",
        "   1 & 0 \\\\\n",
        "   0 & 1\n",
        "   \\end{bmatrix}\n",
        "\\end{equation}$$\n",
        "\n",
        "\\\n",
        "\n",
        "Calcule el resultado de $2I+3A+A@B$."
      ]
    },
    {
      "cell_type": "code",
      "metadata": {
        "colab": {
          "base_uri": "https://localhost:8080/"
        },
        "id": "37w4gqniZ2bW",
        "outputId": "beaa9e10-1697-4b33-b60c-4929fd993564"
      },
      "source": [
        "## La matriz A\n",
        "A = np.array([[1,3],[-1,7]])\n",
        "print('A=', A)\n",
        "## La matriz B\n",
        "B = np.array([[5,2],[1,2]])\n",
        "print('B=', B)\n",
        "## La matriz identidad\n",
        "I = np.eye(2)\n",
        "print('I=', I)"
      ],
      "execution_count": 7,
      "outputs": [
        {
          "output_type": "stream",
          "text": [
            "A= [[ 1  3]\n",
            " [-1  7]]\n",
            "B= [[5 2]\n",
            " [1 2]]\n",
            "I= [[1. 0.]\n",
            " [0. 1.]]\n"
          ],
          "name": "stdout"
        }
      ]
    },
    {
      "cell_type": "code",
      "metadata": {
        "colab": {
          "base_uri": "https://localhost:8080/"
        },
        "id": "rwFbgLktaeik",
        "outputId": "40837243-030e-4f8a-8ec9-d7697322e490"
      },
      "source": [
        "#cálculo de la ecuación 2*I +3*A +A@B \n",
        "\n",
        "R = 2*I + 3*A + A@B\n",
        "print(R)"
      ],
      "execution_count": 10,
      "outputs": [
        {
          "output_type": "stream",
          "text": [
            "[[13. 17.]\n",
            " [-1. 35.]]\n"
          ],
          "name": "stdout"
        }
      ]
    },
    {
      "cell_type": "markdown",
      "metadata": {
        "id": "L0nJAEO6bQRC"
      },
      "source": [
        "**Ejercicio 2**"
      ]
    },
    {
      "cell_type": "markdown",
      "metadata": {
        "id": "z9sf3doAgcoX"
      },
      "source": [
        "Para demostrar el teorema de Cayley Hamilton, que toda matriz satisface su ecuación característica."
      ]
    },
    {
      "cell_type": "markdown",
      "metadata": {
        "id": "NHhOci5ghBMU"
      },
      "source": [
        "$$M, \\det(M-\\lambda I)=0$$"
      ]
    },
    {
      "cell_type": "markdown",
      "metadata": {
        "id": "BCkh3F15haCf"
      },
      "source": [
        "Definimos nuestra matriz M:"
      ]
    },
    {
      "cell_type": "markdown",
      "metadata": {
        "id": "LXyFcZqahc2P"
      },
      "source": [
        "$$ M=\\begin{bmatrix} a & b \\\\ c & d \\end{bmatrix}, \\det(M-\\lambda I)=0 $$\n",
        "\n",
        "$$ \\det \\begin{bmatrix} a & b \\\\ c & d \\end{bmatrix} -\\lambda \\begin{bmatrix} 0 & 1 \\\\ 1 & 0 \\end{bmatrix}=0 $$\n",
        "\n",
        "$$ \\det \\begin{bmatrix} a-\\lambda & b \\\\ c & d-\\lambda \\end{bmatrix} = (a-\\lambda)(d-\\lambda)-(c)(b) = 0\\lambda^2-\\lambda(a+d)+(ad-cb)I=0 $$"
      ]
    },
    {
      "cell_type": "markdown",
      "metadata": {
        "id": "a0H1G4Ctktbg"
      },
      "source": [
        "Donde $\\lambda$ no es nada más que nuestra matriz M, remplazamos:"
      ]
    },
    {
      "cell_type": "markdown",
      "metadata": {
        "id": "l0yHA4RAk743"
      },
      "source": [
        "$$ M^{2}= \\begin{bmatrix} a & b \\\\ c & d \\end{bmatrix} \\begin{bmatrix} a & b \\\\ c & d \\end{bmatrix} = \\begin{bmatrix} a^{2}+bc & ab+bd \\\\ ac+dc & cb+d^{2} \\end{bmatrix}\\\\ \\begin{bmatrix} a^{2}+bc & ab+bd \\\\ ac+dc & cb+d^{2} \\end{bmatrix} -\\begin{bmatrix} a & b \\\\ c & d \\end{bmatrix}(a+d)+(ad-cb)\\begin{bmatrix} 1 & 0 \\\\ 0 & 1 \\end{bmatrix} =0\\\\ \\begin{bmatrix} a^{2}+bc & ab+bd \\\\ ac+dc & cb+d^{2} \\end{bmatrix} - \\begin{bmatrix} a^{2}+ad & ab+db \\\\ ac+dc & cd+d^{2} \\end{bmatrix} + \\begin{bmatrix} ad-ad & 0 \\\\ 0 & ad-cb \\end{bmatrix} = \\\\ \\begin{bmatrix} -ad+bc & 0 \\\\ 0 & -ad+bc \\end{bmatrix} + \\begin{bmatrix} ad-bc & 0 \\\\ 0 & ad-bc \\end{bmatrix} = \\begin{bmatrix} 0 & 0 \\\\ 0 & 0 \\end{bmatrix} $$"
      ]
    },
    {
      "cell_type": "code",
      "metadata": {
        "colab": {
          "base_uri": "https://localhost:8080/"
        },
        "id": "UciIhUx3lEur",
        "outputId": "8bf8d45e-36f4-48c6-f2cf-cb0abc102a0f"
      },
      "source": [
        "a = float(input())\n",
        "b = float(input())\n",
        "c = float(input())\n",
        "d = float(input())\n",
        "\n",
        "M = np.array([[a,b],[c,d]])\n",
        "if (a*d-b*c) != 0:\n",
        "  p_M = I*la.det(M)-np.trace(M)*M+mpow(M,2)\n",
        "  print(\"El polinomio caracteristico calculado mediante el teorema es igual a:\")\n",
        "  print(\"\\n\", p_M)\n",
        "  print(\"Al ser la matriz cero, el teorema queda demostrado\")\n",
        "else:\n",
        "  print(\"El determinante es igual a cero y el teorema no aplica\")"
      ],
      "execution_count": 23,
      "outputs": [
        {
          "output_type": "stream",
          "text": [
            "2\n",
            "6\n",
            "7\n",
            "1\n",
            "El polinomio caracteristico calculado mediante el teorema es igual a:\n",
            "\n",
            " [[0. 0.]\n",
            " [0. 0.]]\n",
            "Al ser la matriz cero, el teorema queda demostrado\n"
          ],
          "name": "stdout"
        }
      ]
    },
    {
      "cell_type": "markdown",
      "metadata": {
        "id": "3EEAwgtMnlM8"
      },
      "source": [
        "**Ejercicio 3.** Resuelva el sistema de ecuaciones:\n",
        "\n",
        "$$ x-3y+z=1 $$\n",
        "$$ 3x-4y+z=5 $$\n",
        "$$ 2y-z=0 $$\n",
        "\n",
        "utilizando el método de eliminación Gaussiana y la función scipy.linalg.solve"
      ]
    },
    {
      "cell_type": "code",
      "metadata": {
        "colab": {
          "base_uri": "https://localhost:8080/"
        },
        "id": "AxApPPxjp0OY",
        "outputId": "da89a24d-fb06-440c-cc86-ff7ad856e81b"
      },
      "source": [
        "# Definimos la Matriz\n",
        "M = np.array([[1,-3,1],[3,-4,1],[0,2,-1]])\n",
        "print(M)\n",
        "\n",
        "# definimos a\n",
        "a = np.array([1,5,0]).reshape(3,1)\n",
        "print(b)"
      ],
      "execution_count": 26,
      "outputs": [
        {
          "output_type": "stream",
          "text": [
            "[[ 1 -3  1]\n",
            " [ 3 -4  1]\n",
            " [ 0  2 -1]]\n",
            "[[1]\n",
            " [5]\n",
            " [0]]\n"
          ],
          "name": "stdout"
        }
      ]
    },
    {
      "cell_type": "code",
      "metadata": {
        "colab": {
          "base_uri": "https://localhost:8080/"
        },
        "id": "YEkuT9iAqI5r",
        "outputId": "620dffee-c59b-4170-9f74-81fe18f7daf1"
      },
      "source": [
        "# Resolviendo el sistema de ecuaciones usando scipy.linalg.solve\n",
        "x = la.solve(M, a)\n",
        "print(x)"
      ],
      "execution_count": 27,
      "outputs": [
        {
          "output_type": "stream",
          "text": [
            "[[3.]\n",
            " [2.]\n",
            " [4.]]\n"
          ],
          "name": "stdout"
        }
      ]
    },
    {
      "cell_type": "code",
      "metadata": {
        "id": "Om7JpsjEqS02"
      },
      "source": [
        "# Implementación del método de eliminación Gaussiana\n",
        "# Intercambio de posición de renglones.\n",
        "def switch_rows(A,i,j):\n",
        "    \"Intercambiar renglones i y j en la matriz A.\"\n",
        "    n = A.shape[0]\n",
        "    E = np.eye(n)\n",
        "    E[i,i] = 0\n",
        "    E[j,j] = 0\n",
        "    E[i,j] = 1\n",
        "    E[j,i] = 1\n",
        "    return E @ A\n",
        "\n",
        "# Multiplicar un renglón por una constante no nula.\n",
        "def scale_row(A,k,i):\n",
        "    \"Multiplicar el renglón i por k en la matriz A.\"\n",
        "    n = A.shape[0]\n",
        "    E = np.eye(n)\n",
        "    E[i,i] = k\n",
        "    return E @ A\n",
        "\n",
        "# Sumar un múltiplo de un reglon a otro renglón.\n",
        "def add_row(A,k,i,j):\n",
        "    \"Sumar k veces el renglón j al renglón i en la matriz A.\"\n",
        "    n = A.shape[0]\n",
        "    E = np.eye(n)\n",
        "    if i == j:\n",
        "        E[i,i] = k + 1\n",
        "    else:\n",
        "        E[i,j] = k\n",
        "    return E @ A"
      ],
      "execution_count": 29,
      "outputs": []
    },
    {
      "cell_type": "code",
      "metadata": {
        "colab": {
          "base_uri": "https://localhost:8080/"
        },
        "id": "88k6hQHsqcQA",
        "outputId": "748ecbd9-9948-4426-b4cb-09e99cf75724"
      },
      "source": [
        "# Matriz aumentada: Unimos la matriz M con la matriz Identidad \n",
        "A = np.hstack([M,np.eye(3)])\n",
        "print(A)"
      ],
      "execution_count": 30,
      "outputs": [
        {
          "output_type": "stream",
          "text": [
            "[[ 1. -3.  1.  1.  0.  0.]\n",
            " [ 3. -4.  1.  0.  1.  0.]\n",
            " [ 0.  2. -1.  0.  0.  1.]]\n"
          ],
          "name": "stdout"
        }
      ]
    },
    {
      "cell_type": "code",
      "metadata": {
        "colab": {
          "base_uri": "https://localhost:8080/"
        },
        "id": "FYPjydSuqmi6",
        "outputId": "6273cb09-409f-43db-e7a9-6dc179dc179d"
      },
      "source": [
        "#  L2 - 3 L1 ->  L2; \n",
        "A1 = add_row(A,-3,1,0)\n",
        "print(A1)"
      ],
      "execution_count": 31,
      "outputs": [
        {
          "output_type": "stream",
          "text": [
            "[[ 1. -3.  1.  1.  0.  0.]\n",
            " [ 0.  5. -2. -3.  1.  0.]\n",
            " [ 0.  2. -1.  0.  0.  1.]]\n"
          ],
          "name": "stdout"
        }
      ]
    },
    {
      "cell_type": "code",
      "metadata": {
        "colab": {
          "base_uri": "https://localhost:8080/"
        },
        "id": "qSmAcsGJquHs",
        "outputId": "cb8899f6-cd10-4dfc-f773-3b1883b13cdf"
      },
      "source": [
        "\n",
        "#  1/5 L2 ->  L2; \n",
        "#  L1 + 3 L2 -> L1;\n",
        "#  L3 - 2 L2 -> L3;\n",
        "A2_2 = scale_row(A1,0.2,1)\n",
        "A2_1 = add_row(A2_2,3,0,1)\n",
        "A2 = add_row(A2_1,-2,2,1)\n",
        "print(A2)"
      ],
      "execution_count": 32,
      "outputs": [
        {
          "output_type": "stream",
          "text": [
            "[[ 1.   0.  -0.2 -0.8  0.6  0. ]\n",
            " [ 0.   1.  -0.4 -0.6  0.2  0. ]\n",
            " [ 0.   0.  -0.2  1.2 -0.4  1. ]]\n"
          ],
          "name": "stdout"
        }
      ]
    },
    {
      "cell_type": "code",
      "metadata": {
        "colab": {
          "base_uri": "https://localhost:8080/"
        },
        "id": "F6dJobESq3yB",
        "outputId": "c7c4913e-780a-4fd1-9cbd-6645ccc56feb"
      },
      "source": [
        "\n",
        "#  -5 L3 ->  L3; \n",
        "#  L1 + 1 L3 -> L1;\n",
        "#  L2 + 2 L3 -> L2;\n",
        "A3_2 = scale_row(A2,-5,2)\n",
        "A3_1 = add_row(A3_2,0.2,0,2)\n",
        "A3 = add_row(A3_1,0.4,1,2)\n",
        "print(A3)"
      ],
      "execution_count": 33,
      "outputs": [
        {
          "output_type": "stream",
          "text": [
            "[[ 1.00000000e+00  0.00000000e+00 -9.99200722e-17 -2.00000000e+00\n",
            "   1.00000000e+00 -1.00000000e+00]\n",
            " [ 0.00000000e+00  1.00000000e+00 -8.88178420e-17 -3.00000000e+00\n",
            "   1.00000000e+00 -2.00000000e+00]\n",
            " [ 0.00000000e+00  0.00000000e+00  1.00000000e+00 -6.00000000e+00\n",
            "   2.00000000e+00 -5.00000000e+00]]\n"
          ],
          "name": "stdout"
        }
      ]
    },
    {
      "cell_type": "code",
      "metadata": {
        "colab": {
          "base_uri": "https://localhost:8080/"
        },
        "id": "67u-zTTCq-tW",
        "outputId": "8e8a4ebe-2a92-4306-f763-21e9aa77b1d6"
      },
      "source": [
        "# Hemos obtenido la inversa\n",
        "M_inv = A3[:,3:]\n",
        "print(M_inv)"
      ],
      "execution_count": 34,
      "outputs": [
        {
          "output_type": "stream",
          "text": [
            "[[-2.  1. -1.]\n",
            " [-3.  1. -2.]\n",
            " [-6.  2. -5.]]\n"
          ],
          "name": "stdout"
        }
      ]
    },
    {
      "cell_type": "code",
      "metadata": {
        "colab": {
          "base_uri": "https://localhost:8080/"
        },
        "id": "Z_H8xJDJrAPe",
        "outputId": "f3bb0258-67e8-46ae-a855-085bac219db1"
      },
      "source": [
        "# El producto de M_inv @ M = I \n",
        "result = M_inv @ M\n",
        "print(result)"
      ],
      "execution_count": 35,
      "outputs": [
        {
          "output_type": "stream",
          "text": [
            "[[ 1.00000000e+00  1.77635684e-15 -4.44089210e-16]\n",
            " [-4.44089210e-16  1.00000000e+00 -4.44089210e-16]\n",
            " [-8.88178420e-16  3.55271368e-15  1.00000000e+00]]\n"
          ],
          "name": "stdout"
        }
      ]
    },
    {
      "cell_type": "code",
      "metadata": {
        "colab": {
          "base_uri": "https://localhost:8080/"
        },
        "id": "qUHkbdC-rDM0",
        "outputId": "6ff6a7e3-30b7-4ebc-8d3f-928d345cc8e2"
      },
      "source": [
        "# Checamos la inversa de M con la función 'la.inv(M)'\n",
        "la.inv(M)"
      ],
      "execution_count": 36,
      "outputs": [
        {
          "output_type": "execute_result",
          "data": {
            "text/plain": [
              "array([[-2.,  1., -1.],\n",
              "       [-3.,  1., -2.],\n",
              "       [-6.,  2., -5.]])"
            ]
          },
          "metadata": {
            "tags": []
          },
          "execution_count": 36
        }
      ]
    },
    {
      "cell_type": "code",
      "metadata": {
        "colab": {
          "base_uri": "https://localhost:8080/"
        },
        "id": "idGd29-KrIGB",
        "outputId": "6fc712c1-6959-4dcb-c2e6-91ac76dfecad"
      },
      "source": [
        "# La solución es:\n",
        "x = M_inv @ a \n",
        "print(x)"
      ],
      "execution_count": 38,
      "outputs": [
        {
          "output_type": "stream",
          "text": [
            "[[3.]\n",
            " [2.]\n",
            " [4.]]\n"
          ],
          "name": "stdout"
        }
      ]
    },
    {
      "cell_type": "markdown",
      "metadata": {
        "id": "NLQLF9UDttgB"
      },
      "source": [
        "**Ejercicio 4.**"
      ]
    },
    {
      "cell_type": "code",
      "metadata": {
        "colab": {
          "base_uri": "https://localhost:8080/"
        },
        "id": "rL3yZ8eMt03c",
        "outputId": "08906407-999b-4674-e26c-dbecb3e2b000"
      },
      "source": [
        "# Definimos las matrices\n",
        "B1 = np.array([[2,0,0],[0,3,4],[0,4,9]])\n",
        "B2 = np.array([[0,1,0],[0,0,1],[1,0,0]])\n",
        "B3 = np.array([[2,0,0,0],[1,2,0,0],[0,1,3,0],[0,0,1,3]])\n",
        "\n",
        "print('B1:')\n",
        "print(B1)\n",
        "print('B2:')\n",
        "print(B2)\n",
        "print('B3:')\n",
        "print(B3)"
      ],
      "execution_count": 39,
      "outputs": [
        {
          "output_type": "stream",
          "text": [
            "B1:\n",
            "[[2 0 0]\n",
            " [0 3 4]\n",
            " [0 4 9]]\n",
            "B2:\n",
            "[[0 1 0]\n",
            " [0 0 1]\n",
            " [1 0 0]]\n",
            "B3:\n",
            "[[2 0 0 0]\n",
            " [1 2 0 0]\n",
            " [0 1 3 0]\n",
            " [0 0 1 3]]\n"
          ],
          "name": "stdout"
        }
      ]
    },
    {
      "cell_type": "code",
      "metadata": {
        "colab": {
          "base_uri": "https://localhost:8080/"
        },
        "id": "YM8MM0ebt9Hs",
        "outputId": "5987dadd-15af-4ecf-9f06-ca8294b06457"
      },
      "source": [
        "# Obtenemos los eigenvalores/vectores con la biblioteca scipy.linalg.eig()\n",
        "\n",
        "# Matriz 1\n",
        "eigvals1, eigvecs1 = la.eig(B1)\n",
        "print('Eigenvalores B1:')\n",
        "print(np.round(eigvals1,2))\n",
        "print('Eigenvectores B1:')\n",
        "print(np.round(eigvecs1,2))\n",
        "print('')\n",
        "\n",
        "# Matriz 2\n",
        "eigvals2, eigvecs2 = la.eig(B2)\n",
        "print('Eigenvalores B2:')\n",
        "print(np.round(eigvals2,2))\n",
        "print('Eigenvectores B2:')\n",
        "print(np.round(eigvecs2,2))\n",
        "print('')\n",
        "\n",
        "# Matriz 3\n",
        "eigvals3, eigvecs3 = la.eig(B3)\n",
        "print('Eigenvalores B3:')\n",
        "print(np.round(eigvals3,2))\n",
        "print('Eigenvectores B3:')\n",
        "print(np.round(eigvecs3,2))"
      ],
      "execution_count": 50,
      "outputs": [
        {
          "output_type": "stream",
          "text": [
            "Eigenvalores B1:\n",
            "[11.+0.j  1.+0.j  2.+0.j]\n",
            "Eigenvectores B1:\n",
            "[[ 0.    0.    1.  ]\n",
            " [ 0.45  0.89  0.  ]\n",
            " [ 0.89 -0.45  0.  ]]\n",
            "\n",
            "Eigenvalores B2:\n",
            "[-0.5+0.87j -0.5-0.87j  1. +0.j  ]\n",
            "Eigenvectores B2:\n",
            "[[ 0.58+0.j   0.58-0.j  -0.58+0.j ]\n",
            " [-0.29+0.5j -0.29-0.5j -0.58+0.j ]\n",
            " [-0.29-0.5j -0.29+0.5j -0.58+0.j ]]\n",
            "\n",
            "Eigenvalores B3:\n",
            "[3.+0.j 3.+0.j 2.+0.j 2.+0.j]\n",
            "Eigenvectores B3:\n",
            "[[ 0.    0.    0.    0.  ]\n",
            " [ 0.    0.    0.58 -0.58]\n",
            " [ 0.    0.   -0.58  0.58]\n",
            " [ 1.   -1.    0.58 -0.58]]\n"
          ],
          "name": "stdout"
        }
      ]
    },
    {
      "cell_type": "markdown",
      "metadata": {
        "id": "kUchAWf2uOYq"
      },
      "source": [
        "**Actividad 5.**"
      ]
    },
    {
      "cell_type": "code",
      "metadata": {
        "colab": {
          "base_uri": "https://localhost:8080/"
        },
        "id": "kY0oZ6Envido",
        "outputId": "0989b12a-cecb-4a42-bafc-e4f4753217d6"
      },
      "source": [
        "# Tenemos un total de 8 puntos donde realizaremos una interpolacion con un polinomio de grado 7 donde\n",
        "x = np.array([0,0.5,1,1.5,2,2.5,3,3.5])\n",
        "y = np.array([0,0.47942,0.84147,0.99749,0.90930,0.59847,0.14112,-0.35078]).reshape(8,1)\n",
        "\n",
        "# Nuestra matriz para la variable x será\n",
        "X = np.column_stack([x**k for k in range(0,8)])\n",
        "\n",
        "## La solución para la ecuación Xa=y usando spicy.linalg==la\n",
        "e = la.solve(X,y)\n",
        "print(e)"
      ],
      "execution_count": 48,
      "outputs": [
        {
          "output_type": "stream",
          "text": [
            "[[ 0.00000000e+00]\n",
            " [ 1.00067181e+00]\n",
            " [-3.70788889e-03]\n",
            " [-1.58867889e-01]\n",
            " [-8.30222222e-03]\n",
            " [ 1.31964444e-02]\n",
            " [-1.54488889e-03]\n",
            " [ 2.46349206e-05]]\n"
          ],
          "name": "stdout"
        }
      ]
    },
    {
      "cell_type": "code",
      "metadata": {
        "colab": {
          "base_uri": "https://localhost:8080/",
          "height": 299
        },
        "id": "NBOVNReSvpNy",
        "outputId": "aa094a91-6808-4f67-e851-42cda1280b14"
      },
      "source": [
        "# Graficamos los resultados del polinomio interpolante de coeficientes a[0], a[1], y a[2]\n",
        "# Sobreponemos en la gráfica los puntos conocidos en azul con puntos ('b.')\n",
        "xs = np.linspace(0,4,10)\n",
        "ys_temp = 0\n",
        "for n in range(0,8):\n",
        "  ys = ys_temp + e[n]*xs**n\n",
        "  ys_temp = ys\n",
        "plt.plot(xs,ys,x,y,'b.', x, np.sin(x))\n",
        "plt.title('Polinomio interpolante', size=18)\n",
        "plt.xlabel('x')\n",
        "plt.ylabel('y')\n",
        "plt.show()"
      ],
      "execution_count": 49,
      "outputs": [
        {
          "output_type": "display_data",
          "data": {
            "image/png": "[encoded data removed]",
            "text/plain": [
              "<Figure size 432x288 with 1 Axes>"
            ]
          },
          "metadata": {
            "tags": [],
            "needs_background": "light"
          }
        }
      ]
    },
    {
      "cell_type": "markdown",
      "metadata": {
        "id": "Oa4eSXhn0npW"
      },
      "source": [
        "**Ejercicio 6.** Ejercicio 6. Regrese a su modelo de análisis de series de tiempo. Haga una descomposición de su serie de tiempo de las temperaturas (Tmax y Tmin), y realice una regresión lineal sobre la serie de Tendencia de Temp $(T = a_0 + a_1 t)$. Encuentre si la pendiente es positiva o negativa de la tendencia (signo de $a_1$), es decir si las Temperaturas (Tmax, Tmin) están subiendo o bajando en el periodo analizado."
      ]
    },
    {
      "cell_type": "code",
      "metadata": {
        "colab": {
          "base_uri": "https://localhost:8080/"
        },
        "id": "FhfanpOe2Mvv",
        "outputId": "842fed1b-aa89-46aa-e3a7-d32acf052710"
      },
      "source": [
        "# Volvemos a cargar las bibliotecas\n",
        "import numpy as np\n",
        "import scipy.linalg as la\n",
        "from numpy.linalg import matrix_power as mpow\n",
        "import pandas as pd\n",
        "import random\n",
        "import matplotlib.pyplot as plt\n",
        "import seaborn as sns\n",
        "import statsmodels.api as sm"
      ],
      "execution_count": 52,
      "outputs": [
        {
          "output_type": "stream",
          "text": [
            "/usr/local/lib/python3.7/dist-packages/statsmodels/tools/_testing.py:19: FutureWarning: pandas.util.testing is deprecated. Use the functions in the public API at pandas.testing instead.\n",
            "  import pandas.util.testing as tm\n"
          ],
          "name": "stderr"
        }
      ]
    },
    {
      "cell_type": "code",
      "metadata": {
        "id": "7C6sJ4i_0zyf"
      },
      "source": [
        "# Tomar datos del url en formato \"raw\"\n",
        "url = 'https://raw.githubusercontent.com/RaulACortez/FisicaComputacional1/main/FisicaComputacional1/Actividad1/ClimatologiaDiariaSantaAna.txt'\n",
        " \n",
        "my_cols = ['Fecha','Precip','Evap','Tmax','Tmin',]\n",
        "df_ana = pd.read_csv(url, names=my_cols, encoding='cp1251', sep='\\s+', header=None, skiprows=19, skipfooter=1, engine='python') \n",
        "\n",
        "# Hacemos una copia de trabajo y preservamos el dataframe original\n",
        "df_ana0 = df_ana.copy()\n",
        "\n",
        "# Cambiamos la palabra nulo por un vacío y verificamos\n",
        "str_Nulo = 'Nulo'\n",
        "df_ana1 = df_ana0.replace(to_replace=str_Nulo, value='', regex=True)\n",
        "\n",
        "# Convertimos los valores de las variables ambientales a números flotantes y verificamos \n",
        "cols_list = ['Precip', 'Evap', 'Tmax', 'Tmin']\n",
        "for cols in cols_list:\n",
        "  df_ana1[cols] = pd.to_numeric(df_ana0[cols], errors='coerce')\n",
        "\n",
        "# Definimos un nuevo dataframe por si hay que regresarse\n",
        "df_ana2 = df_ana1.copy()\n",
        "\n",
        "# Se convierte el objeto Fecha a variable fecha que python reconoce\n",
        "df_ana2['Fecha'] = pd.to_datetime(df_ana2['Fecha'], dayfirst=True).copy()\n",
        "\n",
        "# Añadimos dos columnas adicionales: df['Año'], df['Mes']\n",
        "# Usaremos la función .dt.year y .dt.month para extraer el Año y Mes de la Fecha\n",
        "df_ana2['Año'] = df_ana2['Fecha'].dt.year\n",
        "df_ana2['Mes'] = df_ana2['Fecha'].dt.month\n",
        "\n",
        "# Hacemos una copia del trabajo y es con el que trabajaremos para el análisis de datos\n",
        "df_meteoana = df_ana2.copy()\n",
        "\n",
        "# Eliminamos la columna de Mes(numérico) y agregamos Mes(caractéres)\n",
        "df_meteoana.drop('Mes', axis=1, inplace=True)\n",
        "df_meteoana['Mes'] = df_meteotkt['Fecha'].dt.strftime('%b')\n",
        "\n",
        "# Nueva copia del DataFrame para Series de Tiempo\n",
        "df_meteoana_ts = df_meteoana.copy()\n",
        "\n",
        "# Reemplazamos el índice por la variable 'Fecha' \n",
        "df_meteoana_ts = df_meteoana.set_index('Fecha')\n",
        "\n",
        "# Seleccionaremos un conjunto de años de 30 años\n",
        "df_86 = df_meteoana_ts[(df_meteoana_ts['Año'] >= 1986) & (df_meteoana_ts['Año'] < 2016)]"
      ],
      "execution_count": 55,
      "outputs": []
    },
    {
      "cell_type": "code",
      "metadata": {
        "colab": {
          "base_uri": "https://localhost:8080/"
        },
        "id": "Us1HtTjC3Ypc",
        "outputId": "c96e0334-ef9b-4412-eb23-ea8cd791b5e5"
      },
      "source": [
        "ts_test_TMX = df_86.Tmax\n",
        "decomposition_TMX = sm.tsa.seasonal_decompose(ts_test_TMX.interpolate(), model='additive', freq=365)\n",
        "\n",
        "# La función regresa 3 componentes: tendencia, estacionalidad y un residuo\n",
        "\n",
        "trend_TMX = decomposition_TMX.trend\n",
        "trend_TMX = trend_TMX[~np.isnan(trend_TMX)]\n",
        "print(trend_TMX)"
      ],
      "execution_count": 70,
      "outputs": [
        {
          "output_type": "stream",
          "text": [
            "Fecha\n",
            "1988-05-19    31.238356\n",
            "1988-05-20    31.249315\n",
            "1988-05-21    31.260274\n",
            "1988-05-22    31.268493\n",
            "1988-05-23    31.260274\n",
            "                ...    \n",
            "2015-06-28    30.941096\n",
            "2015-06-29    30.949315\n",
            "2015-06-30    30.976712\n",
            "2015-07-01    30.990411\n",
            "2015-07-02    31.006849\n",
            "Name: Tmax, Length: 8478, dtype: float64\n"
          ],
          "name": "stdout"
        }
      ]
    },
    {
      "cell_type": "code",
      "metadata": {
        "colab": {
          "base_uri": "https://localhost:8080/",
          "height": 295
        },
        "id": "UzfE_jjo3ec4",
        "outputId": "ce54a3af-db85-45af-b32f-0350c18390d4"
      },
      "source": [
        "N = 8478\n",
        "x = np.arange(0,N)\n",
        "y = trend_TMX\n",
        "plt.scatter(x,y);\n",
        "plt.grid()\n",
        "plt.title('Serie de Tendencia Tmax 1986 - 2016, Santa Ana Sonora')\n",
        "plt.xlabel('x')\n",
        "plt.ylabel('y')\n",
        "plt.show()"
      ],
      "execution_count": 71,
      "outputs": [
        {
          "output_type": "display_data",
          "data": {
            "image/png": "[encoded data removed]",
            "text/plain": [
              "<Figure size 432x288 with 1 Axes>"
            ]
          },
          "metadata": {
            "tags": [],
            "needs_background": "light"
          }
        }
      ]
    },
    {
      "cell_type": "code",
      "metadata": {
        "colab": {
          "base_uri": "https://localhost:8080/"
        },
        "id": "gbCD1RoE4S8j",
        "outputId": "877eb28e-f559-4444-ed06-9634503de390"
      },
      "source": [
        "# Construimos la matriz de Vandermonde\n",
        "X = np.column_stack([np.ones(N),x])\n",
        "print('Shape:', X.shape)\n",
        "# Imprimimos los primeros 5 renglones para verificar\n",
        "print(X[:5,:])"
      ],
      "execution_count": 72,
      "outputs": [
        {
          "output_type": "stream",
          "text": [
            "Shape: (8478, 2)\n",
            "[[1. 0.]\n",
            " [1. 1.]\n",
            " [1. 2.]\n",
            " [1. 3.]\n",
            " [1. 4.]]\n"
          ],
          "name": "stdout"
        }
      ]
    },
    {
      "cell_type": "code",
      "metadata": {
        "colab": {
          "base_uri": "https://localhost:8080/"
        },
        "id": "Tn7WCBpV4e9h",
        "outputId": "4b29e3fc-b6c8-4166-d5a2-7b1b3de8023f"
      },
      "source": [
        "# Usamos la función scipy.linalg.solve() para resolver la ecuación X.T@X@a = X.T@y respecto a 'a'\n",
        "a = la.solve(X.T @ X, X.T @ y)\n",
        "print(a)"
      ],
      "execution_count": 73,
      "outputs": [
        {
          "output_type": "stream",
          "text": [
            "[ 3.32752414e+01 -4.97981542e-04]\n"
          ],
          "name": "stdout"
        }
      ]
    },
    {
      "cell_type": "code",
      "metadata": {
        "colab": {
          "base_uri": "https://localhost:8080/",
          "height": 295
        },
        "id": "YDau2s9141uy",
        "outputId": "7a89c9fc-bf01-4bc4-acf1-27b5d10f0a11"
      },
      "source": [
        "# Graficamos el ajuste con esos 2 coeficientes de la regresión y = a_0 + a_1 x \n",
        "xs = np.linspace(0,N,20)\n",
        "ys = a[0] + a[1]*xs\n",
        "plt.plot(xs,ys,'r',linewidth=4)\n",
        "plt.scatter(x,y);\n",
        "plt.grid()\n",
        "plt.title('Ajuste mediante Regresión Lineal de los datos')\n",
        "plt.xlabel('x')\n",
        "plt.ylabel('y')\n",
        "plt.show()"
      ],
      "execution_count": 74,
      "outputs": [
        {
          "output_type": "display_data",
          "data": {
            "image/png": "[encoded data removed]",
            "text/plain": [
              "<Figure size 432x288 with 1 Axes>"
            ]
          },
          "metadata": {
            "tags": [],
            "needs_background": "light"
          }
        }
      ]
    },
    {
      "cell_type": "code",
      "metadata": {
        "colab": {
          "base_uri": "https://localhost:8080/"
        },
        "id": "Q108x_9n5L_Q",
        "outputId": "284c8657-5205-4394-9a27-d40e3289459c"
      },
      "source": [
        "# Método de descomposición usando la biblioteca statsmodels.tsa\n",
        "ts_test_TMN = df_86.Tmin\n",
        "decomposition_TMN = sm.tsa.seasonal_decompose(ts_test_TMN.interpolate(), model='additive', freq=365)\n",
        "\n",
        "# La función regresa 3 componentes: tendencia, estacionalidad y un residuo\n",
        "\n",
        "trend_TMN = decomposition_TMN.trend\n",
        "trend_TMN = trend_TMN[~np.isnan(trend_TMN)]\n",
        "print(trend_TMN)"
      ],
      "execution_count": 75,
      "outputs": [
        {
          "output_type": "stream",
          "text": [
            "Fecha\n",
            "1988-05-19    15.216438\n",
            "1988-05-20    15.224658\n",
            "1988-05-21    15.238356\n",
            "1988-05-22    15.263014\n",
            "1988-05-23    15.268493\n",
            "                ...    \n",
            "2015-06-28    17.538356\n",
            "2015-06-29    17.538356\n",
            "2015-06-30    17.546575\n",
            "2015-07-01    17.571233\n",
            "2015-07-02    17.579452\n",
            "Name: Tmin, Length: 8478, dtype: float64\n"
          ],
          "name": "stdout"
        }
      ]
    },
    {
      "cell_type": "code",
      "metadata": {
        "colab": {
          "base_uri": "https://localhost:8080/",
          "height": 295
        },
        "id": "VJF2fqiI5bXu",
        "outputId": "73e4f031-0559-4d72-a249-39a85bc14ec3"
      },
      "source": [
        "N = 8478\n",
        "x = np.arange(0,N)\n",
        "y = trend_TMN\n",
        "plt.scatter(x,y);\n",
        "plt.grid()\n",
        "plt.title('Serie de Tendencia Tmin 1986 - 2016, Santa Ana Sonora')\n",
        "plt.xlabel('x')\n",
        "plt.ylabel('y')\n",
        "plt.show()"
      ],
      "execution_count": 76,
      "outputs": [
        {
          "output_type": "display_data",
          "data": {
            "image/png": "[encoded data removed]",
            "text/plain": [
              "<Figure size 432x288 with 1 Axes>"
            ]
          },
          "metadata": {
            "tags": [],
            "needs_background": "light"
          }
        }
      ]
    },
    {
      "cell_type": "code",
      "metadata": {
        "colab": {
          "base_uri": "https://localhost:8080/"
        },
        "id": "RgUHMkTR5--x",
        "outputId": "dfd469af-6179-4d7e-af28-e27983a00677"
      },
      "source": [
        "# Usamos la función scipy.linalg.solve() para resolver la ecuación X.T@X@a = X.T@y respecto a 'a'\n",
        "a = la.solve(X.T @ X, X.T @ y)\n",
        "print(a)"
      ],
      "execution_count": 77,
      "outputs": [
        {
          "output_type": "stream",
          "text": [
            "[ 1.53451301e+01 -3.32415669e-04]\n"
          ],
          "name": "stdout"
        }
      ]
    },
    {
      "cell_type": "code",
      "metadata": {
        "colab": {
          "base_uri": "https://localhost:8080/",
          "height": 295
        },
        "id": "QY62Xwdw6bI8",
        "outputId": "6d707425-618f-42f1-bf78-129d769c4cef"
      },
      "source": [
        "xs = np.linspace(0,N,20)\n",
        "ys = a[0] + a[1]*xs\n",
        "plt.plot(xs,ys,'r',linewidth=4)\n",
        "plt.scatter(x,y);\n",
        "plt.grid()\n",
        "plt.title('Ajuste mediante Regresión Lineal de los datos')\n",
        "plt.xlabel('x')\n",
        "plt.ylabel('y')\n",
        "plt.show()"
      ],
      "execution_count": 78,
      "outputs": [
        {
          "output_type": "display_data",
          "data": {
            "image/png": "[encoded data removed]",
            "text/plain": [
              "<Figure size 432x288 with 1 Axes>"
            ]
          },
          "metadata": {
            "tags": [],
            "needs_background": "light"
          }
        }
      ]
    }
  ]
}