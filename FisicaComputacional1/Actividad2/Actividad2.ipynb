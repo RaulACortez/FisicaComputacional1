{
  "nbformat": 4,
  "nbformat_minor": 0,
  "metadata": {
    "colab": {
      "name": "Actividad2.ipynb",
      "provenance": [],
      "collapsed_sections": []
    },
    "kernelspec": {
      "name": "python3",
      "display_name": "Python 3"
    }
  },
  "cells": [
    {
      "cell_type": "markdown",
      "metadata": {
        "id": "cMf7bnF44-xM"
      },
      "source": [
        "# Actividad2"
      ]
    },
    {
      "cell_type": "markdown",
      "metadata": {
        "id": "qalzEHLfiLOv"
      },
      "source": [
        "Se proporciona el siguiente programa para calcular el área de un rectángulo: "
      ]
    },
    {
      "cell_type": "code",
      "metadata": {
        "id": "qq2ZQRvCkgiJ"
      },
      "source": [
        "#Aqui ingresamos las bibliotecas\r\n",
        "import numpy as np"
      ],
      "execution_count": 18,
      "outputs": []
    },
    {
      "cell_type": "code",
      "metadata": {
        "colab": {
          "base_uri": "https://localhost:8080/"
        },
        "id": "2rEVf6sOijhI",
        "outputId": "99a4e7e3-9545-4bad-d56b-27a95555568b"
      },
      "source": [
        "# Se utiliza el símbolo # para hacer comentarios.\r\n",
        "# Se define una función de 2 variables para calcular el área.  \r\n",
        "def area(x, y):\r\n",
        "    return x*y\r\n",
        "\r\n",
        "print(\"Proporciona el largo y altura del rectángulo: \", end=\"\")\r\n",
        "l = float(input())\r\n",
        "w = float(input())\r\n",
        "a = area(l, w)\r\n",
        "# Imprime el valor del área en formato libre.\r\n",
        "print(\"\\nArea = \", a)\r\n",
        "# Imprime el valor del área con 2 decimales. \r\n",
        "print(\"\\nArea = {:.2f}\".format(a))"
      ],
      "execution_count": 1,
      "outputs": [
        {
          "output_type": "stream",
          "text": [
            "Proporciona el largo y altura del rectángulo: 4\n",
            "6\n",
            "\n",
            "Area =  24.0\n",
            "\n",
            "Area = 24.00\n"
          ],
          "name": "stdout"
        }
      ]
    },
    {
      "cell_type": "markdown",
      "metadata": {
        "id": "W_A17SIdiyz8"
      },
      "source": [
        "## **Ejercicio 1:** Usando este ejemplo, modifícalo para calcular:\r\n",
        "\r\n",
        "* Area de: un círculo y  una elipse.\r\n",
        "* volumen de: una esfera y el de un cilindro circular."
      ]
    },
    {
      "cell_type": "markdown",
      "metadata": {
        "id": "pAe-LrYjmv6M"
      },
      "source": [
        "**La formula para calcular el área de un círculo es:**\r\n",
        "\r\n",
        "> $A_{círculo}=\\pi \\cdot r^2$\r\n"
      ]
    },
    {
      "cell_type": "code",
      "metadata": {
        "colab": {
          "base_uri": "https://localhost:8080/"
        },
        "id": "TT9Tt-HsjPWR",
        "outputId": "01535d60-4795-4f24-90dd-3e7eb3db33f3"
      },
      "source": [
        "# Se define una función de 1 variable para calcular el área del círculo.  \r\n",
        "def area(r):\r\n",
        "    return np.pi*r**2\r\n",
        "\r\n",
        "print(\"Proporciona el radio del círculo: \", end=\"\")\r\n",
        "r = float(input())   # Aquí leemos lo que introduce el usuario.\r\n",
        "a = area(r)  # Aquí decimos que la variable \"a\" corresponde al area.\r\n",
        "# Imprimimos el valor del area\r\n",
        "print(\"\\nArea = \", a)"
      ],
      "execution_count": 19,
      "outputs": [
        {
          "output_type": "stream",
          "text": [
            "Proporciona el radio del círculo: 4\n",
            "\n",
            "Area =  50.26548245743669\n"
          ],
          "name": "stdout"
        }
      ]
    },
    {
      "cell_type": "markdown",
      "metadata": {
        "id": "-Eu1qw9Wo0PV"
      },
      "source": [
        "**La fórmula para calcular el área de una elipse es:**\r\n",
        "\r\n",
        "> $A_{elipse}=\\pi \\cdot a \\cdot b$"
      ]
    },
    {
      "cell_type": "code",
      "metadata": {
        "colab": {
          "base_uri": "https://localhost:8080/"
        },
        "id": "oyvDptukmo4s",
        "outputId": "7c60e8ce-538d-42eb-c043-a495625f77f3"
      },
      "source": [
        "# Se define una función de 1 variable para calcular el área de una elipse.  \r\n",
        "def area(a, b):\r\n",
        "    return np.pi*a*b\r\n",
        "\r\n",
        "print(\"Proporciona el semieje mayor y menor de la elipse: \", end=\"\")\r\n",
        "a = float(input())   # Semieje mayor.\r\n",
        "b = float(input())   # Semieje menor.\r\n",
        "c = area(a, b)       # Area.\r\n",
        "# Imprimimos el valor del area\r\n",
        "print(\"\\nArea = \", c)"
      ],
      "execution_count": 20,
      "outputs": [
        {
          "output_type": "stream",
          "text": [
            "Proporciona el semieje mayor y menor de la elipse: 4\n",
            "3\n",
            "\n",
            "Area =  37.69911184307752\n"
          ],
          "name": "stdout"
        }
      ]
    },
    {
      "cell_type": "markdown",
      "metadata": {
        "id": "Hr8_fPeMqcsZ"
      },
      "source": [
        "**La fórmula para calcular el volumen de una esfera es:**\r\n",
        "\r\n",
        "> $V_{esfera}=\\frac{4}{3} \\cdot \\pi \\cdot r^3$"
      ]
    },
    {
      "cell_type": "code",
      "metadata": {
        "colab": {
          "base_uri": "https://localhost:8080/"
        },
        "id": "LLZhB9tXrXN3",
        "outputId": "2a532019-887c-4e13-fd0b-7272c1d64ac5"
      },
      "source": [
        "# Se define una función de 1 variable para calcular el volumen de una esfera.\r\n",
        "def volumen(v):\r\n",
        "    return (4/3)*np.pi*r**3\r\n",
        "\r\n",
        "print(\"Proporciona el radio de la esfera:\", end=\"\")\r\n",
        "r = float(input())   # Radio de la esfera.\r\n",
        "v = volumen(r)       # Volumen de la esfera.\r\n",
        "# Imprime el valor del volumen.\r\n",
        "print(\"\\nVolumen = \", v)"
      ],
      "execution_count": 23,
      "outputs": [
        {
          "output_type": "stream",
          "text": [
            "Proporciona el radio de la esfera:2\n",
            "\n",
            "Volumen =  33.510321638291124\n"
          ],
          "name": "stdout"
        }
      ]
    },
    {
      "cell_type": "markdown",
      "metadata": {
        "id": "TRhGAdFwsaXe"
      },
      "source": [
        "**La fórmula para calcular el volumen de un cilindro circular es:**\r\n",
        "\r\n",
        "> $V_{cilindro}=\\pi \\cdot r^2 \\cdot h$"
      ]
    },
    {
      "cell_type": "code",
      "metadata": {
        "colab": {
          "base_uri": "https://localhost:8080/"
        },
        "id": "Q0obEjHotoIs",
        "outputId": "fdd4dd44-5e26-4e04-a272-029289eaa955"
      },
      "source": [
        "#Se define una función de 2 variable para calcular el volumen de una cilindro circular.\r\n",
        "def volumen(r,h):\r\n",
        "    return np.pi*r**2*h\r\n",
        "\r\n",
        "print(\"Proporciona el radio de la base y la altura del cilindro:\", end=\"\")\r\n",
        "r = float(input())   # Radio del cilindro.\r\n",
        "h = float(input())   # Altura del cilindro.\r\n",
        "v = volumen(r,h)     # Volumen del cilindro\r\n",
        "# Imprime el valor del volumen.\r\n",
        "print(\"\\nVolumen = \", v)"
      ],
      "execution_count": 24,
      "outputs": [
        {
          "output_type": "stream",
          "text": [
            "Proporciona el radio de la base y la altura del cilindro:3\n",
            "3\n",
            "\n",
            "Volumen =  84.82300164692441\n"
          ],
          "name": "stdout"
        }
      ]
    },
    {
      "cell_type": "markdown",
      "metadata": {
        "id": "LZB1FwnDvSlM"
      },
      "source": [
        "## **Ejercicio 2:** Desarrollar un programa en Python que calcule las raíces de una ecuación cuadrática."
      ]
    },
    {
      "cell_type": "markdown",
      "metadata": {
        "id": "sDFaK_0gBrqy"
      },
      "source": [
        "Una ecuación cuadratica tiene la siguiente forma:\r\n",
        "\r\n",
        "> $ax^2+bx+c=0$\r\n",
        "\r\n",
        "Para encontrar sus raices utilizaremos la formula general para funciones cuadraticas:\r\n",
        "\r\n",
        "> $x=\\frac{-b \\pm \\sqrt{b^2-4ac}}{2a}$"
      ]
    },
    {
      "cell_type": "code",
      "metadata": {
        "colab": {
          "base_uri": "https://localhost:8080/"
        },
        "id": "PGgd2NFvCgIw",
        "outputId": "3f45e665-19e8-4cdf-c227-d0eaa5ea5e40"
      },
      "source": [
        "# Se define una función de 3 variables para calcular las raices de la funcion cuadratica.\r\n",
        "\r\n",
        "print(\"Tomando en cuenta que la funcion cuadratica tiene la forma ax^2+bx+c=0\")\r\n",
        "# Se le pide al usuario el valor de los coeficientes.\r\n",
        "print(\"Proporciona el coeficiente a:\", end=\"\")\r\n",
        "a = float(input())\r\n",
        "print(\"Proporciona el coeficiente b:\", end=\"\")\r\n",
        "b = float(input())\r\n",
        "print(\"Proporciona el coeficiente c:\", end=\"\")\r\n",
        "c = float(input())\r\n",
        "\r\n",
        "if (b**2-4*a*c) < 0 : # Si el argumento de la raíz es menor a 0, el programa imprime el mensaje siguiente.\r\n",
        "  print(\"Las raíces de la ecuación son complejas.\")\r\n",
        "else:\r\n",
        "  x1 = (-b+np.sqrt(b**2-4*a*c))/(2*a)\r\n",
        "  x2 = (-b-np.sqrt(b**2-4*a*c))/(2*a)\r\n",
        "# Imprime el valor de las raíces.\r\n",
        "  print(\"\\nX1 = \", x1)\r\n",
        "  print(\"\\nX2 = \", x2)"
      ],
      "execution_count": 37,
      "outputs": [
        {
          "output_type": "stream",
          "text": [
            "Tomando en cuenta que la funcion cuadratica tiene la forma ax^2+bx+c=0\n",
            "Proporciona el coeficiente a:1\n",
            "Proporciona el coeficiente b:2\n",
            "Proporciona el coeficiente c:-3\n",
            "\n",
            "X1 =  1.0\n",
            "\n",
            "X2 =  -3.0\n"
          ],
          "name": "stdout"
        }
      ]
    },
    {
      "cell_type": "markdown",
      "metadata": {
        "id": "Oq3EtIvhHecb"
      },
      "source": [
        "## **Ejercicio 3:** Implementar el método Babilonio (o Método de Herón), para calcular la raíz cuadrada de un número S, cuando la sucesión converja con un error menor a 0.01. Compare con el valor obtenido por el método Babilonio con el valor de la función np.sqrt(S)."
      ]
    },
    {
      "cell_type": "markdown",
      "metadata": {
        "id": "XN2sl_hpNW4U"
      },
      "source": [
        "> $x_0= \\approx \\sqrt S$ \\\\\r\n",
        "> $x_{n+1}=\\frac{1}{2} \\left(x_n+\\frac{S}{x_n} \\right)$ \\\\\r\n",
        "> $\\sqrt S= \\lim_{n \\to \\infty}=x_n$\r\n"
      ]
    },
    {
      "cell_type": "code",
      "metadata": {
        "colab": {
          "base_uri": "https://localhost:8080/"
        },
        "id": "MXU4qKAhKhln",
        "outputId": "cd5b1c5f-820c-4c29-875f-ed3e6b085ab2"
      },
      "source": [
        "print(\"Introduzca el número al cual desea calcularle la raíz:\", end= \"\")\r\n",
        "s=float(input())\r\n",
        "print(\"Introduzca un número del cual quiera comenzar a aproximar:\", end=\"\") #(Si no sabe de que se habla, ingrese cualquier número)\")\r\n",
        "x=float(input())\r\n",
        "error=0.01\r\n",
        "raiz=np.sqrt(s)\r\n",
        "b=0\r\n",
        "while np.abs(x-b) > error:\r\n",
        "  b=x\r\n",
        "  x=(1/2)*(x+s/x)\r\n",
        "# Imprime el valor de las raices.\r\n",
        "print(f\"La raíz cuadrada aproximada del número, con un error de 0.01 es: {x}\")\r\n",
        "print(f\"La diferencia entre la aproximación y la raiz exacta es: {np.abs(x-raiz)}\")"
      ],
      "execution_count": 60,
      "outputs": [
        {
          "output_type": "stream",
          "text": [
            "Introduzca el número al cual desea calcularle la raíz:100\n",
            "Introduzca un número del cual quiera comenzar a aproximar:50\n",
            "La raíz cuadrada aproximada del número, con un error de 0.01 es: 10.000000000107445\n",
            "La diferencia entre la aproximación y la raiz exacta es: 1.0744471978796355e-10\n"
          ],
          "name": "stdout"
        }
      ]
    },
    {
      "cell_type": "markdown",
      "metadata": {
        "id": "5bcJo7t0RsUJ"
      },
      "source": [
        "## **Ejercicio 4:** Reproduce la figura que aparece inmediatamente abajo en el artículo de Wikipedia sobre Series de Taylor, que muestra la aproximación de la función ln(1+x) alrededor de x=0.\r\n",
        "\r\n",
        "![600px-LogTay.svg.png](data:image/png;base64,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)"
      ]
    },
    {
      "cell_type": "code",
      "metadata": {
        "id": "XE3r3dtKSykE"
      },
      "source": [
        ""
      ],
      "execution_count": null,
      "outputs": []
    }
  ]
}