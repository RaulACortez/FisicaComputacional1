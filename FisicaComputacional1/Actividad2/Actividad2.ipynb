{
  "nbformat": 4,
  "nbformat_minor": 0,
  "metadata": {
    "colab": {
      "name": "Actividad2.ipynb",
      "provenance": []
    },
    "kernelspec": {
      "name": "python3",
      "display_name": "Python 3"
    }
  },
  "cells": [
    {
      "cell_type": "markdown",
      "metadata": {
        "id": "cMf7bnF44-xM"
      },
      "source": [
        "# Actividad2"
      ]
    },
    {
      "cell_type": "markdown",
      "metadata": {
        "id": "qalzEHLfiLOv"
      },
      "source": [
        "Se proporciona el siguiente programa para calcular el área de un rectángulo: "
      ]
    },
    {
      "cell_type": "code",
      "metadata": {
        "id": "qq2ZQRvCkgiJ"
      },
      "source": [
        "#Aqui ingresamos las bibliotecas\r\n",
        "import numpy as np"
      ],
      "execution_count": 18,
      "outputs": []
    },
    {
      "cell_type": "code",
      "metadata": {
        "colab": {
          "base_uri": "https://localhost:8080/"
        },
        "id": "2rEVf6sOijhI",
        "outputId": "99a4e7e3-9545-4bad-d56b-27a95555568b"
      },
      "source": [
        "# Se utiliza el símbolo # para hacer comentarios.\r\n",
        "# Se define una función de 2 variables para calcular el área.  \r\n",
        "def area(x, y):\r\n",
        "    return x*y\r\n",
        "\r\n",
        "print(\"Proporciona el largo y altura del rectángulo: \", end=\"\")\r\n",
        "l = float(input())\r\n",
        "w = float(input())\r\n",
        "a = area(l, w)\r\n",
        "# Imprime el valor del área en formato libre.\r\n",
        "print(\"\\nArea = \", a)\r\n",
        "# Imprime el valor del área con 2 decimales. \r\n",
        "print(\"\\nArea = {:.2f}\".format(a))"
      ],
      "execution_count": 1,
      "outputs": [
        {
          "output_type": "stream",
          "text": [
            "Proporciona el largo y altura del rectángulo: 4\n",
            "6\n",
            "\n",
            "Area =  24.0\n",
            "\n",
            "Area = 24.00\n"
          ],
          "name": "stdout"
        }
      ]
    },
    {
      "cell_type": "markdown",
      "metadata": {
        "id": "W_A17SIdiyz8"
      },
      "source": [
        "## **Ejercicio 1:** Usando este ejemplo, modifícalo para calcular:\r\n",
        "\r\n",
        "* Area de: un círculo y  una elipse.\r\n",
        "* volumen de: una esfera y el de un cilindro circular."
      ]
    },
    {
      "cell_type": "markdown",
      "metadata": {
        "id": "pAe-LrYjmv6M"
      },
      "source": [
        "**La formula para calcular el área de un círculo es:**\r\n",
        "\r\n",
        "> $A_{círculo}=\\pi \\cdot r^2$\r\n"
      ]
    },
    {
      "cell_type": "code",
      "metadata": {
        "colab": {
          "base_uri": "https://localhost:8080/"
        },
        "id": "TT9Tt-HsjPWR",
        "outputId": "01535d60-4795-4f24-90dd-3e7eb3db33f3"
      },
      "source": [
        "# Se define una función de 1 variable para calcular el área del círculo.  \r\n",
        "def area(r):\r\n",
        "    return np.pi*r**2\r\n",
        "\r\n",
        "print(\"Proporciona el radio del círculo: \", end=\"\")\r\n",
        "r = float(input())   # Aquí leemos lo que introduce el usuario.\r\n",
        "a = area(r)  # Aquí decimos que la variable \"a\" corresponde al area.\r\n",
        "# Imprimimos el valor del area\r\n",
        "print(\"\\nArea = \", a)"
      ],
      "execution_count": 19,
      "outputs": [
        {
          "output_type": "stream",
          "text": [
            "Proporciona el radio del círculo: 4\n",
            "\n",
            "Area =  50.26548245743669\n"
          ],
          "name": "stdout"
        }
      ]
    },
    {
      "cell_type": "markdown",
      "metadata": {
        "id": "-Eu1qw9Wo0PV"
      },
      "source": [
        "**La fórmula para calcular el área de una elipse es:**\r\n",
        "\r\n",
        "> $A_{elipse}=\\pi \\cdot a \\cdot b$"
      ]
    },
    {
      "cell_type": "code",
      "metadata": {
        "colab": {
          "base_uri": "https://localhost:8080/"
        },
        "id": "oyvDptukmo4s",
        "outputId": "7c60e8ce-538d-42eb-c043-a495625f77f3"
      },
      "source": [
        "# Se define una función de 1 variable para calcular el área de una elipse.  \r\n",
        "def area(a, b):\r\n",
        "    return np.pi*a*b\r\n",
        "\r\n",
        "print(\"Proporciona el semieje mayor y menor de la elipse: \", end=\"\")\r\n",
        "a = float(input())   # Semieje mayor.\r\n",
        "b = float(input())   # Semieje menor.\r\n",
        "c = area(a, b)       # Area.\r\n",
        "# Imprimimos el valor del area\r\n",
        "print(\"\\nArea = \", c)"
      ],
      "execution_count": 20,
      "outputs": [
        {
          "output_type": "stream",
          "text": [
            "Proporciona el semieje mayor y menor de la elipse: 4\n",
            "3\n",
            "\n",
            "Area =  37.69911184307752\n"
          ],
          "name": "stdout"
        }
      ]
    },
    {
      "cell_type": "markdown",
      "metadata": {
        "id": "Hr8_fPeMqcsZ"
      },
      "source": [
        "**La fórmula para calcular el volumen de una esfera es:**\r\n",
        "\r\n",
        "> $V_{esfera}=\\frac{4}{3} \\cdot \\pi \\cdot r^3$"
      ]
    },
    {
      "cell_type": "code",
      "metadata": {
        "colab": {
          "base_uri": "https://localhost:8080/"
        },
        "id": "LLZhB9tXrXN3",
        "outputId": "2a532019-887c-4e13-fd0b-7272c1d64ac5"
      },
      "source": [
        "# Se define una función de 1 variable para calcular el volumen de una esfera.\r\n",
        "def volumen(v):\r\n",
        "    return (4/3)*np.pi*r**3\r\n",
        "\r\n",
        "print(\"Proporciona el radio de la esfera:\", end=\"\")\r\n",
        "r = float(input())   # Radio de la esfera.\r\n",
        "v = volumen(r)       # Volumen de la esfera.\r\n",
        "# Imprime el valor del volumen.\r\n",
        "print(\"\\nVolumen = \", v)"
      ],
      "execution_count": 23,
      "outputs": [
        {
          "output_type": "stream",
          "text": [
            "Proporciona el radio de la esfera:2\n",
            "\n",
            "Volumen =  33.510321638291124\n"
          ],
          "name": "stdout"
        }
      ]
    },
    {
      "cell_type": "markdown",
      "metadata": {
        "id": "TRhGAdFwsaXe"
      },
      "source": [
        "**La fórmula para calcular el volumen de un cilindro circular es:**\r\n",
        "\r\n",
        "> $V_{cilindro}=\\pi \\cdot r^2 \\cdot h$"
      ]
    },
    {
      "cell_type": "code",
      "metadata": {
        "colab": {
          "base_uri": "https://localhost:8080/"
        },
        "id": "Q0obEjHotoIs",
        "outputId": "fdd4dd44-5e26-4e04-a272-029289eaa955"
      },
      "source": [
        "#Se define una función de 2 variable para calcular el volumen de una cilindro circular.\r\n",
        "def volumen(r,h):\r\n",
        "    return np.pi*r**2*h\r\n",
        "\r\n",
        "print(\"Proporciona el radio de la base y la altura del cilindro:\", end=\"\")\r\n",
        "r = float(input())   # Radio del cilindro.\r\n",
        "h = float(input())   # Altura del cilindro.\r\n",
        "v = volumen(r,h)     # Volumen del cilindro\r\n",
        "# Imprime el valor del volumen.\r\n",
        "print(\"\\nVolumen = \", v)"
      ],
      "execution_count": 24,
      "outputs": [
        {
          "output_type": "stream",
          "text": [
            "Proporciona el radio de la base y la altura del cilindro:3\n",
            "3\n",
            "\n",
            "Volumen =  84.82300164692441\n"
          ],
          "name": "stdout"
        }
      ]
    },
    {
      "cell_type": "markdown",
      "metadata": {
        "id": "LZB1FwnDvSlM"
      },
      "source": [
        "## **Ejercicio 2:** Desarrollar un programa en Python que calcule las raíces de una ecuación cuadrática."
      ]
    },
    {
      "cell_type": "markdown",
      "metadata": {
        "id": "sDFaK_0gBrqy"
      },
      "source": [
        "Una ecuación cuadratica tiene la siguiente forma:\r\n",
        "\r\n",
        "> $ax^2+bx+c=0$\r\n",
        "\r\n",
        "Para encontrar sus raices utilizaremos la formula general para funciones cuadraticas:\r\n",
        "\r\n",
        "> $x=\\frac{-b \\pm \\sqrt{b^2-4ac}}{2a}$"
      ]
    },
    {
      "cell_type": "code",
      "metadata": {
        "colab": {
          "base_uri": "https://localhost:8080/"
        },
        "id": "PGgd2NFvCgIw",
        "outputId": "3f45e665-19e8-4cdf-c227-d0eaa5ea5e40"
      },
      "source": [
        "# Se define una función de 3 variables para calcular las raices de la funcion cuadratica.\r\n",
        "\r\n",
        "print(\"Tomando en cuenta que la funcion cuadratica tiene la forma ax^2+bx+c=0\")\r\n",
        "# Se le pide al usuario el valor de los coeficientes.\r\n",
        "print(\"Proporciona el coeficiente a:\", end=\"\")\r\n",
        "a = float(input())\r\n",
        "print(\"Proporciona el coeficiente b:\", end=\"\")\r\n",
        "b = float(input())\r\n",
        "print(\"Proporciona el coeficiente c:\", end=\"\")\r\n",
        "c = float(input())\r\n",
        "\r\n",
        "if (b**2-4*a*c) < 0 : # Si el argumento de la raíz es menor a 0, el programa imprime el mensaje siguiente.\r\n",
        "  print(\"Las raíces de la ecuación son complejas.\")\r\n",
        "else:\r\n",
        "  x1 = (-b+np.sqrt(b**2-4*a*c))/(2*a)\r\n",
        "  x2 = (-b-np.sqrt(b**2-4*a*c))/(2*a)\r\n",
        "# Imprime el valor de las raíces.\r\n",
        "  print(\"\\nX1 = \", x1)\r\n",
        "  print(\"\\nX2 = \", x2)"
      ],
      "execution_count": 37,
      "outputs": [
        {
          "output_type": "stream",
          "text": [
            "Tomando en cuenta que la funcion cuadratica tiene la forma ax^2+bx+c=0\n",
            "Proporciona el coeficiente a:1\n",
            "Proporciona el coeficiente b:2\n",
            "Proporciona el coeficiente c:-3\n",
            "\n",
            "X1 =  1.0\n",
            "\n",
            "X2 =  -3.0\n"
          ],
          "name": "stdout"
        }
      ]
    },
    {
      "cell_type": "markdown",
      "metadata": {
        "id": "Oq3EtIvhHecb"
      },
      "source": [
        "## **Ejercicio 3:** Implementar el método Babilonio (o Método de Herón), para calcular la raíz cuadrada de un número S, cuando la sucesión converja con un error menor a 0.01. Compare con el valor obtenido por el método Babilonio con el valor de la función np.sqrt(S)."
      ]
    },
    {
      "cell_type": "markdown",
      "metadata": {
        "id": "DnxPSCh3IAzk"
      },
      "source": [
        ""
      ]
    }
  ]
}