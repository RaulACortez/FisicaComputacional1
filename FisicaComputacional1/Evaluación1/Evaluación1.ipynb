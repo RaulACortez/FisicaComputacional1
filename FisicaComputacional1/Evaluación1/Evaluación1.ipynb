{
  "nbformat": 4,
  "nbformat_minor": 0,
  "metadata": {
    "colab": {
      "name": "Evaluación1.ipynb",
      "provenance": []
    },
    "kernelspec": {
      "name": "python3",
      "display_name": "Python 3"
    }
  },
  "cells": [
    {
      "cell_type": "markdown",
      "metadata": {
        "id": "RKjqidxXpwzz"
      },
      "source": [
        "**Análisis de Series de Tiempo**"
      ]
    },
    {
      "cell_type": "code",
      "metadata": {
        "id": "ZLw8-bB1pt9s"
      },
      "source": [
        "#usaremos las siguientes bibliotecas\r\n",
        "import pandas as pd\r\n",
        "import numpy as np\r\n",
        "import matplotlib.pyplot as plt\r\n",
        "import seaborn as sns\r\n",
        "import statsmodels.api as sm"
      ],
      "execution_count": 108,
      "outputs": []
    },
    {
      "cell_type": "code",
      "metadata": {
        "id": "G8GXfU2nq79g"
      },
      "source": [
        "\r\n",
        "#Tomamos la dirección del archivo.\r\n",
        "url = 'https://raw.githubusercontent.com/RaulACortez/FisicaComputacional1/main/FisicaComputacional1/Evaluaci%C3%B3n1/Hawaii.txt'\r\n",
        "\r\n",
        "#Definimos nombres para las columnas.\r\n",
        "my_cols = ['site_code', 'year', 'month', 'day', 'hour', 'minute', 'second', 'time_decimal', 'Concentracion de CO2', 'value_std_dev', 'nvalue', 'latitude', 'longitude', 'altitude', 'elevation', 'intake_height', 'qcflag']\r\n",
        "df_dist = pd.read_csv(url, names=my_cols, encoding='cp1251', sep='\\s+', header=None, skiprows=152, skipfooter=0, engine='python')\r\n",
        "\r\n",
        "#Creamos una copia y conservamos el original.\r\n",
        "df_work0 = df_dist.copy()\r\n",
        "\r\n",
        "#reemplazamos los textos \"Nulo\" por espacio en blanco.\r\n",
        "str_Nulo = -999.99\r\n",
        "df_work1 = df_work0.replace(to_replace=str_Nulo, value='NaN', regex=True)\r\n",
        "\r\n",
        "#Convertimos los valores de las variables ambientales a numeros flotantes.\r\n",
        "cols_list = ['site_code', 'year', 'month', 'day', 'hour', 'minute', 'second', 'time_decimal', 'Concentracion de CO2', 'value_std_dev', 'nvalue', 'latitude', 'longitude', 'altitude', 'elevation', 'intake_height', 'qcflag']\r\n",
        "for cols in cols_list:\r\n",
        "  df_work1[cols] = pd.to_numeric(df_work1[cols], errors='coerce')\r\n",
        "\r\n",
        "#Volveremos a hacer una copia.\r\n",
        "df_work2 = df_work1.copy()\r\n",
        "\r\n",
        "df_work2['Fecha'] = pd.to_datetime(df_work2[['year','month','day']]\r\n",
        "                   .astype(str).apply(' '.join, 1), format='%Y %m %d')\r\n",
        "\r\n",
        "df_work2['Fecha'] = (pd.to_datetime(df_work2['year'].astype(str) + '-' +\r\n",
        "                                  df_work2['month'].astype(str) + '-' +\r\n",
        "                                  df_work2['day'].astype(str)))\r\n"
      ],
      "execution_count": 109,
      "outputs": []
    },
    {
      "cell_type": "code",
      "metadata": {
        "colab": {
          "base_uri": "https://localhost:8080/"
        },
        "id": "FyJ_Pg7SJiMy",
        "outputId": "2060f9e7-2445-4847-f105-c67838c3d7e9"
      },
      "source": [
        "df_datos = df_work2.copy()\r\n",
        "df_datos.info()\r\n",
        "print(df_datos.head())\r\n",
        "print(df_datos.tail())"
      ],
      "execution_count": 105,
      "outputs": [
        {
          "output_type": "stream",
          "text": [
            "<class 'pandas.core.frame.DataFrame'>\n",
            "RangeIndex: 17166 entries, 0 to 17165\n",
            "Data columns (total 18 columns):\n",
            " #   Column                Non-Null Count  Dtype         \n",
            "---  ------                --------------  -----         \n",
            " 0   site_code             0 non-null      float64       \n",
            " 1   year                  17166 non-null  int64         \n",
            " 2   month                 17166 non-null  int64         \n",
            " 3   day                   17166 non-null  int64         \n",
            " 4   hour                  17166 non-null  int64         \n",
            " 5   minute                17166 non-null  int64         \n",
            " 6   second                17166 non-null  int64         \n",
            " 7   time_decimal          17166 non-null  float64       \n",
            " 8   Concentracion de CO2  13936 non-null  float64       \n",
            " 9   value_std_dev         17166 non-null  float64       \n",
            " 10  nvalue                17166 non-null  int64         \n",
            " 11  latitude              17166 non-null  float64       \n",
            " 12  longitude             17166 non-null  float64       \n",
            " 13  altitude              17166 non-null  float64       \n",
            " 14  elevation             17166 non-null  float64       \n",
            " 15  intake_height         17166 non-null  float64       \n",
            " 16  qcflag                0 non-null      float64       \n",
            " 17  Fecha                 17166 non-null  datetime64[ns]\n",
            "dtypes: datetime64[ns](1), float64(10), int64(7)\n",
            "memory usage: 2.4 MB\n",
            "   site_code  year  month  day  ...  elevation  intake_height  qcflag      Fecha\n",
            "0        NaN  1973      1    1  ...     3397.0           40.0     NaN 1973-01-01\n",
            "1        NaN  1973      1    2  ...     3397.0           40.0     NaN 1973-01-02\n",
            "2        NaN  1973      1    3  ...     3397.0           40.0     NaN 1973-01-03\n",
            "3        NaN  1973      1    4  ...     3397.0           40.0     NaN 1973-01-04\n",
            "4        NaN  1973      1    5  ...     3397.0           40.0     NaN 1973-01-05\n",
            "\n",
            "[5 rows x 18 columns]\n",
            "       site_code  year  month  day  ...  elevation  intake_height  qcflag      Fecha\n",
            "17161        NaN  2019     12   27  ...     3397.0           40.0     NaN 2019-12-27\n",
            "17162        NaN  2019     12   28  ...     3397.0           40.0     NaN 2019-12-28\n",
            "17163        NaN  2019     12   29  ...     3397.0           40.0     NaN 2019-12-29\n",
            "17164        NaN  2019     12   30  ...     3397.0           40.0     NaN 2019-12-30\n",
            "17165        NaN  2019     12   31  ...     3397.0           40.0     NaN 2019-12-31\n",
            "\n",
            "[5 rows x 18 columns]\n"
          ],
          "name": "stdout"
        }
      ]
    },
    {
      "cell_type": "code",
      "metadata": {
        "colab": {
          "base_uri": "https://localhost:8080/",
          "height": 371
        },
        "id": "VBP-Qw1dAvqb",
        "outputId": "7001414b-7610-4d09-d28a-4d42faa06577"
      },
      "source": [
        "df_datos = df_datos.copy()\r\n",
        "# Redefinimos el índice del DataFrame a que sea la variable 'Fecha'\r\n",
        "df_datos = df_datos.set_index('Fecha')\r\n",
        "# Vamos a utilizar los últimos de datos, que corresponden al periodo 1980-2019\r\n",
        "df_80 = df_datos[(df_datos['year'] >= 1980) & (df_datos['year'] < 2020)]\r\n",
        "df_80.head()"
      ],
      "execution_count": 111,
      "outputs": [
        {
          "output_type": "error",
          "ename": "KeyError",
          "evalue": "ignored",
          "traceback": [
            "\u001b[0;31m---------------------------------------------------------------------------\u001b[0m",
            "\u001b[0;31mKeyError\u001b[0m                                  Traceback (most recent call last)",
            "\u001b[0;32m<ipython-input-111-1fd86110ce92>\u001b[0m in \u001b[0;36m<module>\u001b[0;34m()\u001b[0m\n\u001b[1;32m      1\u001b[0m \u001b[0mdf_datos\u001b[0m \u001b[0;34m=\u001b[0m \u001b[0mdf_datos\u001b[0m\u001b[0;34m.\u001b[0m\u001b[0mcopy\u001b[0m\u001b[0;34m(\u001b[0m\u001b[0;34m)\u001b[0m\u001b[0;34m\u001b[0m\u001b[0;34m\u001b[0m\u001b[0m\n\u001b[1;32m      2\u001b[0m \u001b[0;31m# Redefinimos el índice del DataFrame a que sea la variable 'Fecha'\u001b[0m\u001b[0;34m\u001b[0m\u001b[0;34m\u001b[0m\u001b[0;34m\u001b[0m\u001b[0m\n\u001b[0;32m----> 3\u001b[0;31m \u001b[0mdf_datos\u001b[0m \u001b[0;34m=\u001b[0m \u001b[0mdf_datos\u001b[0m\u001b[0;34m.\u001b[0m\u001b[0mset_index\u001b[0m\u001b[0;34m(\u001b[0m\u001b[0;34m'Fecha'\u001b[0m\u001b[0;34m)\u001b[0m\u001b[0;34m\u001b[0m\u001b[0;34m\u001b[0m\u001b[0m\n\u001b[0m\u001b[1;32m      4\u001b[0m \u001b[0;31m# Vamos a utilizar los últimos de datos, que corresponden al periodo 1980-2019\u001b[0m\u001b[0;34m\u001b[0m\u001b[0;34m\u001b[0m\u001b[0;34m\u001b[0m\u001b[0m\n\u001b[1;32m      5\u001b[0m \u001b[0mdf_80\u001b[0m \u001b[0;34m=\u001b[0m \u001b[0mdf_datos\u001b[0m\u001b[0;34m[\u001b[0m\u001b[0;34m(\u001b[0m\u001b[0mdf_datos\u001b[0m\u001b[0;34m[\u001b[0m\u001b[0;34m'year'\u001b[0m\u001b[0;34m]\u001b[0m \u001b[0;34m>=\u001b[0m \u001b[0;36m1980\u001b[0m\u001b[0;34m)\u001b[0m \u001b[0;34m&\u001b[0m \u001b[0;34m(\u001b[0m\u001b[0mdf_datos\u001b[0m\u001b[0;34m[\u001b[0m\u001b[0;34m'year'\u001b[0m\u001b[0;34m]\u001b[0m \u001b[0;34m<\u001b[0m \u001b[0;36m2020\u001b[0m\u001b[0;34m)\u001b[0m\u001b[0;34m]\u001b[0m\u001b[0;34m\u001b[0m\u001b[0;34m\u001b[0m\u001b[0m\n",
            "\u001b[0;32m/usr/local/lib/python3.7/dist-packages/pandas/core/frame.py\u001b[0m in \u001b[0;36mset_index\u001b[0;34m(self, keys, drop, append, inplace, verify_integrity)\u001b[0m\n\u001b[1;32m   4553\u001b[0m \u001b[0;34m\u001b[0m\u001b[0m\n\u001b[1;32m   4554\u001b[0m         \u001b[0;32mif\u001b[0m \u001b[0mmissing\u001b[0m\u001b[0;34m:\u001b[0m\u001b[0;34m\u001b[0m\u001b[0;34m\u001b[0m\u001b[0m\n\u001b[0;32m-> 4555\u001b[0;31m             \u001b[0;32mraise\u001b[0m \u001b[0mKeyError\u001b[0m\u001b[0;34m(\u001b[0m\u001b[0;34mf\"None of {missing} are in the columns\"\u001b[0m\u001b[0;34m)\u001b[0m\u001b[0;34m\u001b[0m\u001b[0;34m\u001b[0m\u001b[0m\n\u001b[0m\u001b[1;32m   4556\u001b[0m \u001b[0;34m\u001b[0m\u001b[0m\n\u001b[1;32m   4557\u001b[0m         \u001b[0;32mif\u001b[0m \u001b[0minplace\u001b[0m\u001b[0;34m:\u001b[0m\u001b[0;34m\u001b[0m\u001b[0;34m\u001b[0m\u001b[0m\n",
            "\u001b[0;31mKeyError\u001b[0m: \"None of ['Fecha'] are in the columns\""
          ]
        }
      ]
    }
  ]
}