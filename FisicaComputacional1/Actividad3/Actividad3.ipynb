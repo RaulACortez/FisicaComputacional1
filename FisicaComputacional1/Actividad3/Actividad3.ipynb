{
  "nbformat": 4,
  "nbformat_minor": 0,
  "metadata": {
    "colab": {
      "name": "Actividad3.ipynb",
      "provenance": []
    },
    "kernelspec": {
      "name": "python3",
      "display_name": "Python 3"
    }
  },
  "cells": [
    {
      "cell_type": "markdown",
      "metadata": {
        "id": "41k2F15iFuYS"
      },
      "source": [
        "# **Actividad3**"
      ]
    },
    {
      "cell_type": "code",
      "metadata": {
        "id": "mXhlsX5NIlse"
      },
      "source": [
        "import pandas as pd\r\n",
        "import numpy as np\r\n",
        "\r\n",
        "# Aquí tomamos el archivo de la direccion URL en formato 'raw'.\r\n",
        "url = 'https://raw.githubusercontent.com/RaulACortez/FisicaComputacional1/main/FisicaComputacional1/Actividad1/ClimatologiaDiariaSantaAna.txt'\r\n",
        "\r\n",
        "# Aquí definimos el nombre de las columnas, tambien procesaremos los datos usando python.\r\n",
        "my_cols = ['Fecha','Precip','Evap','Tmax','Tmin']\r\n",
        "df_dist = pd.read_csv(url, names=my_cols, encoding='cp1251', sep='\\s+', header=None, skiprows=19, skipfooter=1, engine='python')"
      ],
      "execution_count": 4,
      "outputs": []
    },
    {
      "cell_type": "markdown",
      "metadata": {
        "id": "hJjyIespGXYy"
      },
      "source": [
        "Aquí imprimimos los primeros y las ultimos 10 renglones del Dataframe."
      ]
    },
    {
      "cell_type": "code",
      "metadata": {
        "colab": {
          "base_uri": "https://localhost:8080/"
        },
        "id": "_XsbeVXDK6eL",
        "outputId": "db54271b-12fa-4dbc-f1eb-07c89a580ca4"
      },
      "source": [
        "# Aquí revisamos el encabezao y el final del dataframe.\r\n",
        "print(df_dist.head(10))\r\n",
        "print(df_dist.tail(10))"
      ],
      "execution_count": 5,
      "outputs": [
        {
          "output_type": "stream",
          "text": [
            "        Fecha Precip  Evap  Tmax Tmin\n",
            "0  02/01/1969      0  Nulo    22    2\n",
            "1  03/01/1969      0  Nulo    17    2\n",
            "2  04/01/1969      0  Nulo    15    3\n",
            "3  06/01/1969      0  Nulo    19    1\n",
            "4  07/01/1969      0  Nulo  Nulo    0\n",
            "5  08/01/1969      0  Nulo  Nulo    0\n",
            "6  09/01/1969      0  Nulo    15    1\n",
            "7  10/01/1969      0  Nulo  Nulo    0\n",
            "8  11/01/1969      0  Nulo    19    2\n",
            "9  13/01/1969      0  Nulo    22    2\n",
            "            Fecha Precip  Evap Tmax Tmin\n",
            "10762  21/04/2016      0  Nulo   29   13\n",
            "10763  22/04/2016      0  Nulo   28   15\n",
            "10764  23/04/2016      0  Nulo   29   14\n",
            "10765  24/04/2016      0  Nulo   25   14\n",
            "10766  25/04/2016      0  Nulo   24   12\n",
            "10767  26/04/2016      0  Nulo   23   13\n",
            "10768  27/04/2016      0  Nulo   22   11\n",
            "10769  28/04/2016      0  Nulo   26   10\n",
            "10770  29/04/2016      0  Nulo   22   11\n",
            "10771  30/04/2016      0  Nulo   24   10\n"
          ],
          "name": "stdout"
        }
      ]
    },
    {
      "cell_type": "markdown",
      "metadata": {
        "id": "OA9otB0JIPtF"
      },
      "source": [
        "Aquí veremos la dimensión de nuestro Dataframe."
      ]
    },
    {
      "cell_type": "code",
      "metadata": {
        "colab": {
          "base_uri": "https://localhost:8080/"
        },
        "id": "YbMHoc6XFdMk",
        "outputId": "8fff0ea1-46d4-4479-cab3-9807ad27cfc4"
      },
      "source": [
        "df_dist.shape"
      ],
      "execution_count": 6,
      "outputs": [
        {
          "output_type": "execute_result",
          "data": {
            "text/plain": [
              "(10772, 5)"
            ]
          },
          "metadata": {
            "tags": []
          },
          "execution_count": 6
        }
      ]
    },
    {
      "cell_type": "markdown",
      "metadata": {
        "id": "7OYc1sErIxV4"
      },
      "source": [
        "Informacion del Dataframe."
      ]
    },
    {
      "cell_type": "code",
      "metadata": {
        "colab": {
          "base_uri": "https://localhost:8080/"
        },
        "id": "2mbKpmd8I6lX",
        "outputId": "292c52db-5ec1-436b-be50-464992830790"
      },
      "source": [
        "df_dist.info()"
      ],
      "execution_count": 7,
      "outputs": [
        {
          "output_type": "stream",
          "text": [
            "<class 'pandas.core.frame.DataFrame'>\n",
            "RangeIndex: 10772 entries, 0 to 10771\n",
            "Data columns (total 5 columns):\n",
            " #   Column  Non-Null Count  Dtype \n",
            "---  ------  --------------  ----- \n",
            " 0   Fecha   10772 non-null  object\n",
            " 1   Precip  10772 non-null  object\n",
            " 2   Evap    10772 non-null  object\n",
            " 3   Tmax    10772 non-null  object\n",
            " 4   Tmin    10772 non-null  object\n",
            "dtypes: object(5)\n",
            "memory usage: 420.9+ KB\n"
          ],
          "name": "stdout"
        }
      ]
    },
    {
      "cell_type": "markdown",
      "metadata": {
        "id": "Kf6WbUG4JTql"
      },
      "source": [
        "Hacemos una coppia del trabajo y preservamos el Dataframe original."
      ]
    },
    {
      "cell_type": "code",
      "metadata": {
        "colab": {
          "base_uri": "https://localhost:8080/",
          "height": 204
        },
        "id": "bcGnha5sJufy",
        "outputId": "26f80287-1e74-4a29-8c31-2b6310f4484f"
      },
      "source": [
        "df_work0 = df_dist.copy()\r\n",
        "df_work0.head()"
      ],
      "execution_count": 8,
      "outputs": [
        {
          "output_type": "execute_result",
          "data": {
            "text/html": [
              "<div>\n",
              "<style scoped>\n",
              "    .dataframe tbody tr th:only-of-type {\n",
              "        vertical-align: middle;\n",
              "    }\n",
              "\n",
              "    .dataframe tbody tr th {\n",
              "        vertical-align: top;\n",
              "    }\n",
              "\n",
              "    .dataframe thead th {\n",
              "        text-align: right;\n",
              "    }\n",
              "</style>\n",
              "<table border=\"1\" class=\"dataframe\">\n",
              "  <thead>\n",
              "    <tr style=\"text-align: right;\">\n",
              "      <th></th>\n",
              "      <th>Fecha</th>\n",
              "      <th>Precip</th>\n",
              "      <th>Evap</th>\n",
              "      <th>Tmax</th>\n",
              "      <th>Tmin</th>\n",
              "    </tr>\n",
              "  </thead>\n",
              "  <tbody>\n",
              "    <tr>\n",
              "      <th>0</th>\n",
              "      <td>02/01/1969</td>\n",
              "      <td>0</td>\n",
              "      <td>Nulo</td>\n",
              "      <td>22</td>\n",
              "      <td>2</td>\n",
              "    </tr>\n",
              "    <tr>\n",
              "      <th>1</th>\n",
              "      <td>03/01/1969</td>\n",
              "      <td>0</td>\n",
              "      <td>Nulo</td>\n",
              "      <td>17</td>\n",
              "      <td>2</td>\n",
              "    </tr>\n",
              "    <tr>\n",
              "      <th>2</th>\n",
              "      <td>04/01/1969</td>\n",
              "      <td>0</td>\n",
              "      <td>Nulo</td>\n",
              "      <td>15</td>\n",
              "      <td>3</td>\n",
              "    </tr>\n",
              "    <tr>\n",
              "      <th>3</th>\n",
              "      <td>06/01/1969</td>\n",
              "      <td>0</td>\n",
              "      <td>Nulo</td>\n",
              "      <td>19</td>\n",
              "      <td>1</td>\n",
              "    </tr>\n",
              "    <tr>\n",
              "      <th>4</th>\n",
              "      <td>07/01/1969</td>\n",
              "      <td>0</td>\n",
              "      <td>Nulo</td>\n",
              "      <td>Nulo</td>\n",
              "      <td>0</td>\n",
              "    </tr>\n",
              "  </tbody>\n",
              "</table>\n",
              "</div>"
            ],
            "text/plain": [
              "        Fecha Precip  Evap  Tmax Tmin\n",
              "0  02/01/1969      0  Nulo    22    2\n",
              "1  03/01/1969      0  Nulo    17    2\n",
              "2  04/01/1969      0  Nulo    15    3\n",
              "3  06/01/1969      0  Nulo    19    1\n",
              "4  07/01/1969      0  Nulo  Nulo    0"
            ]
          },
          "metadata": {
            "tags": []
          },
          "execution_count": 8
        }
      ]
    },
    {
      "cell_type": "markdown",
      "metadata": {
        "id": "dN-x4pXgJ50d"
      },
      "source": [
        "Reemplazaremos la palabra \"Nulo\" por espacio en blanco."
      ]
    },
    {
      "cell_type": "code",
      "metadata": {
        "colab": {
          "base_uri": "https://localhost:8080/",
          "height": 204
        },
        "id": "xBC8wQNwKB1R",
        "outputId": "22af61cf-d226-4f4d-a0c7-9280fefeff59"
      },
      "source": [
        "str_Nulo = 'Nulo'\r\n",
        "df_work1 = df_work0.replace(to_replace=str_Nulo, value='', regex=True)\r\n",
        "df_work1.head()"
      ],
      "execution_count": 9,
      "outputs": [
        {
          "output_type": "execute_result",
          "data": {
            "text/html": [
              "<div>\n",
              "<style scoped>\n",
              "    .dataframe tbody tr th:only-of-type {\n",
              "        vertical-align: middle;\n",
              "    }\n",
              "\n",
              "    .dataframe tbody tr th {\n",
              "        vertical-align: top;\n",
              "    }\n",
              "\n",
              "    .dataframe thead th {\n",
              "        text-align: right;\n",
              "    }\n",
              "</style>\n",
              "<table border=\"1\" class=\"dataframe\">\n",
              "  <thead>\n",
              "    <tr style=\"text-align: right;\">\n",
              "      <th></th>\n",
              "      <th>Fecha</th>\n",
              "      <th>Precip</th>\n",
              "      <th>Evap</th>\n",
              "      <th>Tmax</th>\n",
              "      <th>Tmin</th>\n",
              "    </tr>\n",
              "  </thead>\n",
              "  <tbody>\n",
              "    <tr>\n",
              "      <th>0</th>\n",
              "      <td>02/01/1969</td>\n",
              "      <td>0</td>\n",
              "      <td></td>\n",
              "      <td>22</td>\n",
              "      <td>2</td>\n",
              "    </tr>\n",
              "    <tr>\n",
              "      <th>1</th>\n",
              "      <td>03/01/1969</td>\n",
              "      <td>0</td>\n",
              "      <td></td>\n",
              "      <td>17</td>\n",
              "      <td>2</td>\n",
              "    </tr>\n",
              "    <tr>\n",
              "      <th>2</th>\n",
              "      <td>04/01/1969</td>\n",
              "      <td>0</td>\n",
              "      <td></td>\n",
              "      <td>15</td>\n",
              "      <td>3</td>\n",
              "    </tr>\n",
              "    <tr>\n",
              "      <th>3</th>\n",
              "      <td>06/01/1969</td>\n",
              "      <td>0</td>\n",
              "      <td></td>\n",
              "      <td>19</td>\n",
              "      <td>1</td>\n",
              "    </tr>\n",
              "    <tr>\n",
              "      <th>4</th>\n",
              "      <td>07/01/1969</td>\n",
              "      <td>0</td>\n",
              "      <td></td>\n",
              "      <td></td>\n",
              "      <td>0</td>\n",
              "    </tr>\n",
              "  </tbody>\n",
              "</table>\n",
              "</div>"
            ],
            "text/plain": [
              "        Fecha Precip Evap Tmax Tmin\n",
              "0  02/01/1969      0        22    2\n",
              "1  03/01/1969      0        17    2\n",
              "2  04/01/1969      0        15    3\n",
              "3  06/01/1969      0        19    1\n",
              "4  07/01/1969      0              0"
            ]
          },
          "metadata": {
            "tags": []
          },
          "execution_count": 9
        }
      ]
    },
    {
      "cell_type": "markdown",
      "metadata": {
        "id": "uRVRQI4OKUNT"
      },
      "source": [
        "Imprimmos la información actualizada."
      ]
    },
    {
      "cell_type": "code",
      "metadata": {
        "colab": {
          "base_uri": "https://localhost:8080/"
        },
        "id": "9yFmnCAFKuzi",
        "outputId": "57e96c91-8713-4374-8835-b9619f0ee924"
      },
      "source": [
        "df_work1.info()\r\n",
        "print(df_work1.head())"
      ],
      "execution_count": 10,
      "outputs": [
        {
          "output_type": "stream",
          "text": [
            "<class 'pandas.core.frame.DataFrame'>\n",
            "RangeIndex: 10772 entries, 0 to 10771\n",
            "Data columns (total 5 columns):\n",
            " #   Column  Non-Null Count  Dtype \n",
            "---  ------  --------------  ----- \n",
            " 0   Fecha   10772 non-null  object\n",
            " 1   Precip  10772 non-null  object\n",
            " 2   Evap    10772 non-null  object\n",
            " 3   Tmax    10772 non-null  object\n",
            " 4   Tmin    10772 non-null  object\n",
            "dtypes: object(5)\n",
            "memory usage: 420.9+ KB\n",
            "        Fecha Precip Evap Tmax Tmin\n",
            "0  02/01/1969      0        22    2\n",
            "1  03/01/1969      0        17    2\n",
            "2  04/01/1969      0        15    3\n",
            "3  06/01/1969      0        19    1\n",
            "4  07/01/1969      0              0\n"
          ],
          "name": "stdout"
        }
      ]
    },
    {
      "cell_type": "markdown",
      "metadata": {
        "id": "FzvE0vFWLANj"
      },
      "source": [
        "En éste paso se nos pide convertir los objetos a números flotantes.\r\n",
        "\r\n",
        "Comenzaremos por las columnas que son reales o flotantes (Precip, Evap, Tmax y Tmin)."
      ]
    },
    {
      "cell_type": "code",
      "metadata": {
        "colab": {
          "base_uri": "https://localhost:8080/"
        },
        "id": "gkxYOsoTLVX4",
        "outputId": "86d306d6-1214-49e6-d834-ce00b0d6870b"
      },
      "source": [
        "cols_list = ['Precip', 'Evap', 'Tmax', 'Tmin']\r\n",
        "for cols in cols_list:\r\n",
        "  df_work1[cols] = pd.to_numeric(df_work1[cols], errors='coerce')\r\n",
        "\r\n",
        "df_work1.info()"
      ],
      "execution_count": 11,
      "outputs": [
        {
          "output_type": "stream",
          "text": [
            "<class 'pandas.core.frame.DataFrame'>\n",
            "RangeIndex: 10772 entries, 0 to 10771\n",
            "Data columns (total 5 columns):\n",
            " #   Column  Non-Null Count  Dtype  \n",
            "---  ------  --------------  -----  \n",
            " 0   Fecha   10772 non-null  object \n",
            " 1   Precip  10770 non-null  float64\n",
            " 2   Evap    8143 non-null   float64\n",
            " 3   Tmax    10708 non-null  float64\n",
            " 4   Tmin    10747 non-null  float64\n",
            "dtypes: float64(4), object(1)\n",
            "memory usage: 420.9+ KB\n"
          ],
          "name": "stdout"
        }
      ]
    },
    {
      "cell_type": "markdown",
      "metadata": {
        "id": "X8Rq4GHQL-zR"
      },
      "source": [
        "Sumamos los valores nulos e imprimimos de nuevo el encabezado y pie de pagina."
      ]
    },
    {
      "cell_type": "code",
      "metadata": {
        "colab": {
          "base_uri": "https://localhost:8080/"
        },
        "id": "gc4sGs2TMHwl",
        "outputId": "bcaf6585-1fd1-4ec5-c234-3d10b28d213d"
      },
      "source": [
        "df_work1.isnull().sum()"
      ],
      "execution_count": 16,
      "outputs": [
        {
          "output_type": "execute_result",
          "data": {
            "text/plain": [
              "Fecha        0\n",
              "Precip       2\n",
              "Evap      2629\n",
              "Tmax        64\n",
              "Tmin        25\n",
              "dtype: int64"
            ]
          },
          "metadata": {
            "tags": []
          },
          "execution_count": 16
        }
      ]
    },
    {
      "cell_type": "code",
      "metadata": {
        "colab": {
          "base_uri": "https://localhost:8080/"
        },
        "id": "blvLz42GMlxW",
        "outputId": "91e2a9eb-f516-40c3-b2eb-e27aea983de2"
      },
      "source": [
        "print(df_work1.head())\r\n",
        "print(df_work1.head())"
      ],
      "execution_count": 17,
      "outputs": [
        {
          "output_type": "stream",
          "text": [
            "        Fecha  Precip  Evap  Tmax  Tmin\n",
            "0  02/01/1969     0.0   NaN  22.0   2.0\n",
            "1  03/01/1969     0.0   NaN  17.0   2.0\n",
            "2  04/01/1969     0.0   NaN  15.0   3.0\n",
            "3  06/01/1969     0.0   NaN  19.0   1.0\n",
            "4  07/01/1969     0.0   NaN   NaN   0.0\n",
            "        Fecha  Precip  Evap  Tmax  Tmin\n",
            "0  02/01/1969     0.0   NaN  22.0   2.0\n",
            "1  03/01/1969     0.0   NaN  17.0   2.0\n",
            "2  04/01/1969     0.0   NaN  15.0   3.0\n",
            "3  06/01/1969     0.0   NaN  19.0   1.0\n",
            "4  07/01/1969     0.0   NaN   NaN   0.0\n"
          ],
          "name": "stdout"
        }
      ]
    },
    {
      "cell_type": "markdown",
      "metadata": {
        "id": "wWIiK_K_M9TM"
      },
      "source": [
        "Realizamos una estadística básica de las variables del Dataframe."
      ]
    },
    {
      "cell_type": "code",
      "metadata": {
        "colab": {
          "base_uri": "https://localhost:8080/",
          "height": 297
        },
        "id": "H1A0CzVTNM3e",
        "outputId": "9c891299-5a73-4ea1-ad49-dc663f9a46e6"
      },
      "source": [
        "df_work1.describe()"
      ],
      "execution_count": 26,
      "outputs": [
        {
          "output_type": "execute_result",
          "data": {
            "text/html": [
              "<div>\n",
              "<style scoped>\n",
              "    .dataframe tbody tr th:only-of-type {\n",
              "        vertical-align: middle;\n",
              "    }\n",
              "\n",
              "    .dataframe tbody tr th {\n",
              "        vertical-align: top;\n",
              "    }\n",
              "\n",
              "    .dataframe thead th {\n",
              "        text-align: right;\n",
              "    }\n",
              "</style>\n",
              "<table border=\"1\" class=\"dataframe\">\n",
              "  <thead>\n",
              "    <tr style=\"text-align: right;\">\n",
              "      <th></th>\n",
              "      <th>Precip</th>\n",
              "      <th>Evap</th>\n",
              "      <th>Tmax</th>\n",
              "      <th>Tmin</th>\n",
              "    </tr>\n",
              "  </thead>\n",
              "  <tbody>\n",
              "    <tr>\n",
              "      <th>count</th>\n",
              "      <td>10770.000000</td>\n",
              "      <td>8143.000000</td>\n",
              "      <td>10708.000000</td>\n",
              "      <td>10747.000000</td>\n",
              "    </tr>\n",
              "    <tr>\n",
              "      <th>mean</th>\n",
              "      <td>0.885469</td>\n",
              "      <td>5.881776</td>\n",
              "      <td>31.189531</td>\n",
              "      <td>13.625998</td>\n",
              "    </tr>\n",
              "    <tr>\n",
              "      <th>std</th>\n",
              "      <td>5.085385</td>\n",
              "      <td>3.221910</td>\n",
              "      <td>7.894925</td>\n",
              "      <td>7.282133</td>\n",
              "    </tr>\n",
              "    <tr>\n",
              "      <th>min</th>\n",
              "      <td>0.000000</td>\n",
              "      <td>0.000000</td>\n",
              "      <td>1.000000</td>\n",
              "      <td>-10.000000</td>\n",
              "    </tr>\n",
              "    <tr>\n",
              "      <th>25%</th>\n",
              "      <td>0.000000</td>\n",
              "      <td>3.200000</td>\n",
              "      <td>26.000000</td>\n",
              "      <td>7.000000</td>\n",
              "    </tr>\n",
              "    <tr>\n",
              "      <th>50%</th>\n",
              "      <td>0.000000</td>\n",
              "      <td>5.400000</td>\n",
              "      <td>32.000000</td>\n",
              "      <td>14.000000</td>\n",
              "    </tr>\n",
              "    <tr>\n",
              "      <th>75%</th>\n",
              "      <td>0.000000</td>\n",
              "      <td>8.200000</td>\n",
              "      <td>38.000000</td>\n",
              "      <td>20.000000</td>\n",
              "    </tr>\n",
              "    <tr>\n",
              "      <th>max</th>\n",
              "      <td>140.000000</td>\n",
              "      <td>18.000000</td>\n",
              "      <td>49.000000</td>\n",
              "      <td>32.000000</td>\n",
              "    </tr>\n",
              "  </tbody>\n",
              "</table>\n",
              "</div>"
            ],
            "text/plain": [
              "             Precip         Evap          Tmax          Tmin\n",
              "count  10770.000000  8143.000000  10708.000000  10747.000000\n",
              "mean       0.885469     5.881776     31.189531     13.625998\n",
              "std        5.085385     3.221910      7.894925      7.282133\n",
              "min        0.000000     0.000000      1.000000    -10.000000\n",
              "25%        0.000000     3.200000     26.000000      7.000000\n",
              "50%        0.000000     5.400000     32.000000     14.000000\n",
              "75%        0.000000     8.200000     38.000000     20.000000\n",
              "max      140.000000    18.000000     49.000000     32.000000"
            ]
          },
          "metadata": {
            "tags": []
          },
          "execution_count": 26
        }
      ]
    }
  ]
}